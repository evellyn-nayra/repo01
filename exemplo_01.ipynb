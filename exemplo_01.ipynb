{
  "nbformat": 4,
  "nbformat_minor": 0,
  "metadata": {
    "colab": {
      "name": "exemplo_01.ipynb",
      "provenance": [],
      "collapsed_sections": [],
      "authorship_tag": "ABX9TyMdvzAKmFH2tV71Awd4f/rr",
      "include_colab_link": true
    },
    "kernelspec": {
      "name": "python3",
      "display_name": "Python 3"
    }
  },
  "cells": [
    {
      "cell_type": "markdown",
      "metadata": {
        "id": "view-in-github",
        "colab_type": "text"
      },
      "source": [
        "<a href=\"https://colab.research.google.com/github/evellyn-nayra/repo01/blob/master/exemplo_01.ipynb\" target=\"_parent\"><img src=\"https://colab.research.google.com/assets/colab-badge.svg\" alt=\"Open In Colab\"/></a>"
      ]
    },
    {
      "cell_type": "code",
      "metadata": {
        "id": "TyEr3zSwwvkG",
        "colab_type": "code",
        "colab": {
          "base_uri": "https://localhost:8080/",
          "height": 68
        },
        "outputId": "2540f01c-6bb5-405b-ba38-02e20651a71e"
      },
      "source": [
        "### isto é um comando de saida\n",
        "print('olá mundo cruel!!!')\n",
        "print('cruel world!!!')\n",
        "print('\"com aspas\"')\n",
        "\n",
        "# a hastag é um comentario no código,ou seja,  programa não ira processar nenhuma linha que estiver marcada\n",
        "# o comando print() mostra na tela, ou seja, é uma saida de valor(es)\n",
        "# o conteudo texto deve estar entre aspas (simples ou duplas)\n"
      ],
      "execution_count": 5,
      "outputs": [
        {
          "output_type": "stream",
          "text": [
            "olá mundo cruel!!!\n",
            "cruel world!!!\n",
            "\"com aspas\"\n"
          ],
          "name": "stdout"
        }
      ]
    },
    {
      "cell_type": "markdown",
      "metadata": {
        "id": "7egkuNds4kHx",
        "colab_type": "text"
      },
      "source": [
        "Esta é uma célula somente de texto.\n",
        "Aqui posso fazer formatações usando as ferramentas que estão na barra. Por exemplo, **isto esta em negrito**. *Isto é italico*."
      ]
    },
    {
      "cell_type": "markdown",
      "metadata": {
        "id": "dBicSGfT5Ejd",
        "colab_type": "text"
      },
      "source": [
        "Abaixo, vamos ver como mesclar um saida de tela."
      ]
    },
    {
      "cell_type": "code",
      "metadata": {
        "id": "T8SWX5QE5Mjp",
        "colab_type": "code",
        "colab": {
          "base_uri": "https://localhost:8080/",
          "height": 34
        },
        "outputId": "331db825-ea5b-4a58-c627-187399efc4c1"
      },
      "source": [
        "print('Evelyn','Nayra','de','Souza','Pereira')"
      ],
      "execution_count": 6,
      "outputs": [
        {
          "output_type": "stream",
          "text": [
            "Evelyn Nayra de Souza Pereira\n"
          ],
          "name": "stdout"
        }
      ]
    }
  ]
}