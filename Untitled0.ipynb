{
  "nbformat": 4,
  "nbformat_minor": 0,
  "metadata": {
    "colab": {
      "name": "Untitled0.ipynb",
      "provenance": [],
      "authorship_tag": "ABX9TyN5dQ9HhsSZ3qgIOVhqcPP+",
      "include_colab_link": true
    },
    "kernelspec": {
      "name": "python3",
      "display_name": "Python 3"
    }
  },
  "cells": [
    {
      "cell_type": "markdown",
      "metadata": {
        "id": "view-in-github",
        "colab_type": "text"
      },
      "source": [
        "<a href=\"https://colab.research.google.com/github/evellyn-nayra/repo01/blob/master/Untitled0.ipynb\" target=\"_parent\"><img src=\"https://colab.research.google.com/assets/colab-badge.svg\" alt=\"Open In Colab\"/></a>"
      ]
    },
    {
      "cell_type": "code",
      "metadata": {
        "id": "deZT3cIAXllr",
        "colab_type": "code",
        "colab": {}
      },
      "source": [
        "# variaveis são espaços na memória do computador\n",
        "# que armazenam dados para serem processados.\n",
        "\n",
        "# Uma variavel tem um nome que a identifica no sistema\n",
        "# Uma variavel pode ou não ter um valor\n",
        "# Uma variaavel sempre tera um tipo de dado relacionado a ela\n",
        "\n",
        "# EXEMPLO DE DECLARAÇÃO DE VARIAVEIS"
      ],
      "execution_count": null,
      "outputs": []
    },
    {
      "cell_type": "code",
      "metadata": {
        "id": "063czzVRcZ04",
        "colab_type": "code",
        "colab": {
          "base_uri": "https://localhost:8080/",
          "height": 34
        },
        "outputId": "e80c2795-8803-4d82-a7fc-e773d828fc30"
      },
      "source": [
        " x = 10\n",
        " print(x)"
      ],
      "execution_count": 4,
      "outputs": [
        {
          "output_type": "stream",
          "text": [
            "10\n"
          ],
          "name": "stdout"
        }
      ]
    },
    {
      "cell_type": "code",
      "metadata": {
        "id": "yMNCPt_kdZyE",
        "colab_type": "code",
        "colab": {
          "base_uri": "https://localhost:8080/",
          "height": 33
        },
        "outputId": "440ed736-5816-4d5f-c82c-6efe2e31b99a"
      },
      "source": [
        " print(x/x)"
      ],
      "execution_count": 5,
      "outputs": [
        {
          "output_type": "stream",
          "text": [
            "1.0\n"
          ],
          "name": "stdout"
        }
      ]
    },
    {
      "cell_type": "code",
      "metadata": {
        "id": "XT-OtAT2dn1Q",
        "colab_type": "code",
        "colab": {}
      },
      "source": [
        " # float é um tipo de dado em computação que representa os numeros reais\n",
        " # ou seja, com casas decimais."
      ],
      "execution_count": null,
      "outputs": []
    },
    {
      "cell_type": "code",
      "metadata": {
        "id": "b95FNaPad1Lo",
        "colab_type": "code",
        "colab": {
          "base_uri": "https://localhost:8080/",
          "height": 33
        },
        "outputId": "ef37b2bd-6c8a-448a-dcc1-67113e452662"
      },
      "source": [
        " # Descobrir tipos de dados\n",
        " \n",
        " x = 8\n",
        " y = 15\n",
        "\n",
        " if (x >= 3 or y % 2) == 0:\n",
        "   print('Ao menos uma das condições foi satisfeita')\n",
        " else:   \n",
        "   print(\"As duas condições foram satisfeitas\")\n",
        " "
      ],
      "execution_count": 14,
      "outputs": [
        {
          "output_type": "stream",
          "text": [
            "As duas condições foram satisfeitas\n"
          ],
          "name": "stdout"
        }
      ]
    },
    {
      "cell_type": "code",
      "metadata": {
        "id": "hiLvtqLQ6H49",
        "colab_type": "code",
        "colab": {
          "base_uri": "https://localhost:8080/",
          "height": 50
        },
        "outputId": "07b1574c-3a43-47a8-e726-860e194b3bd9"
      },
      "source": [
        "# Implemente um programa que escreva na tela a frase\n",
        "# Meu primeiro programa em Python\n",
        "entrada = input('')\n",
        "print(entrada)"
      ],
      "execution_count": 16,
      "outputs": [
        {
          "output_type": "stream",
          "text": [
            "Meu primeiro programa em Python!!!\n",
            "Meu primeiro programa em Python!!!\n"
          ],
          "name": "stdout"
        }
      ]
    },
    {
      "cell_type": "code",
      "metadata": {
        "id": "0LrLjW8g6uNK",
        "colab_type": "code",
        "colab": {
          "base_uri": "https://localhost:8080/",
          "height": 66
        },
        "outputId": "bc5342c7-1800-4d40-abea-1ae02c65bdfb"
      },
      "source": [
        "# Faça um programa que leia duas variáveis pelo teclado e apresente \n",
        "# a soma entre eles\n",
        "num1 =  float (input('Digite um numero: '))\n",
        "num2 =  float (input('Digite um numero: ')) \n",
        "soma = num1 + num2\n",
        "print(soma)"
      ],
      "execution_count": 51,
      "outputs": [
        {
          "output_type": "stream",
          "text": [
            "Digite um numero: 90\n",
            "Digite um numero: 678\n",
            "768.0\n"
          ],
          "name": "stdout"
        }
      ]
    },
    {
      "cell_type": "code",
      "metadata": {
        "id": "dIbW_v-rBCAu",
        "colab_type": "code",
        "colab": {
          "base_uri": "https://localhost:8080/",
          "height": 33
        },
        "outputId": "49087420-3891-4ec1-e108-3720949cf8fc"
      },
      "source": [
        "# Utilizando variáveis, faça um programa para realizar o seguinte cálculo: \n",
        "# 10 + 20 - 30 + (45 * 3) / 8 ** 2\n",
        "a = 10\n",
        "b = 20\n",
        "c = 30\n",
        "d = 45\n",
        "e = 3\n",
        "f = 8\n",
        "g = 2\n",
        "print(a + b - c + (d * e)/ f ** g)"
      ],
      "execution_count": 49,
      "outputs": [
        {
          "output_type": "stream",
          "text": [
            "2.109375\n"
          ],
          "name": "stdout"
        }
      ]
    },
    {
      "cell_type": "code",
      "metadata": {
        "id": "ab6TDo7xNujt",
        "colab_type": "code",
        "colab": {
          "base_uri": "https://localhost:8080/",
          "height": 33
        },
        "outputId": "9822d1eb-3b82-43e0-b7f4-f179d96fe4b5"
      },
      "source": [
        "# Calcule o delta da equação a seguir, realizando a entrada dos valores\n",
        "# de (a, b e c) pelo teclado.\n",
        "a = 1\n",
        "b = 12\n",
        "c = -13\n",
        "print(b * b - 4 * a * c)"
      ],
      "execution_count": 61,
      "outputs": [
        {
          "output_type": "stream",
          "text": [
            "196\n"
          ],
          "name": "stdout"
        }
      ]
    },
    {
      "cell_type": "code",
      "metadata": {
        "id": "WPN5B9CBnB4r",
        "colab_type": "code",
        "colab": {}
      },
      "source": [
        ""
      ],
      "execution_count": null,
      "outputs": []
    }
  ]
}